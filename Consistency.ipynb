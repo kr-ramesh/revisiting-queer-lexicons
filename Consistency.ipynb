{
  "cells": [
    {
      "cell_type": "markdown",
      "metadata": {
        "id": "view-in-github",
        "colab_type": "text"
      },
      "source": [
        "<a href=\"https://colab.research.google.com/github/stolenpyjak/revisiting-queer-lexicons/blob/main/Consistency.ipynb\" target=\"_parent\"><img src=\"https://colab.research.google.com/assets/colab-badge.svg\" alt=\"Open In Colab\"/></a>"
      ]
    },
    {
      "cell_type": "markdown",
      "source": [
        "#Rule-based analysis"
      ],
      "metadata": {
        "id": "CMQZyY7fE97C"
      }
    },
    {
      "cell_type": "code",
      "source": [
        "for i in jaccard_queer:\n",
        "  print(i)"
      ],
      "metadata": {
        "colab": {
          "base_uri": "https://localhost:8080/"
        },
        "id": "6X19EQoOG832",
        "outputId": "17acdeaa-5d1d-4bce-b597-0485dc01080b"
      },
      "execution_count": null,
      "outputs": [
        {
          "output_type": "stream",
          "name": "stdout",
          "text": [
            "['cross-dresser', 'dragqueen', 'fag', 'faggot', 'fagot', 'gay', 'homo', 'homosexual', 'pansy', 'queer', 'sod', 'transvestite', 'twink']\n",
            "['dyke', 'faggot', 'fagot', 'gay', 'heterosexual', 'homo', 'homosexual', 'lesbain', 'lesbayn', 'lesbin', 'transsexual', 'transvestite']\n",
            "['ace', 'bent', 'cuntboy', 'dyke', 'fag', 'faggot', 'flamer', 'genderqueer', 'homophobia', 'pansy', 'queer', 'sod', 'tranny', 'twink']\n",
            "['butch', 'dyke', 'fag', 'fagging', 'faggot', 'fagot', 'flamer', 'gay', 'gaysex', 'homo', 'homosexual', 'lesbian', 'lesbo', 'queer', 'shemale', 'trans', 'transgender', 'transvestite']\n",
            "['dyke', 'fag', 'faggot', 'flamer', 'homo', 'lesbo', 'queer']\n",
            "['bi', 'bicurious', 'bisexual', 'dragqueen', 'dragqween', 'dyke', 'fag', 'fagging', 'faggot', 'fagot', 'gay', 'gaymuthafuckinwhore', 'gaysex', 'heterosexual', 'homo', 'homosexual', 'lesbain', 'lesbayn', 'lesbian', 'lesbin', 'lesbo', 'pansy', 'queer', 'tranny', 'transsexual', 'transvestite', 'twink']\n",
            "['fag', 'faggot', 'shemale', 'tranny', 'twink']\n",
            "['dyke', 'fag', 'fagdick', 'faggot', 'fagshit', 'fagshits', 'gay', 'queer', 'shemale', 'tranny']\n",
            "['dyke', 'fag', 'fagging', 'faggot', 'fagot', 'gaysex', 'homo', 'shemale']\n",
            "['dyke', 'fag', 'faggot', 'flamer', 'gay', 'homo', 'lesbian', 'lesbo', 'queer']\n",
            "['bent', 'dyke', 'fag', 'fag hag', 'faggot', 'femme', 'flamer', 'gay', 'homo', 'lesbo', 'limp-wristed', 'nancy', 'pansy', 'pillow-biter', 'queer', 'shemale', 'tranny', 'twink']\n",
            "['dyke', 'fag', 'fag hag', 'fagging', 'faggot', 'fagot', 'fagshit', 'flamer', 'homo', 'lesbo', 'pillow-biter', 'shemale', 'tranny', 'transvestite', 'twink']\n"
          ]
        }
      ]
    },
    {
      "cell_type": "code",
      "source": [
        "list_words=['gay', 'transgender', 'tranny', 'faggot', 'dyke', 'lesbian']"
      ],
      "metadata": {
        "id": "-29TzGp8AepY"
      },
      "execution_count": null,
      "outputs": []
    },
    {
      "cell_type": "code",
      "source": [
        "for lst in jaccard_queer:\n",
        "  score=0\n",
        "  if(len([i for i in lst if i in list_words])==0):\n",
        "    print(100.0, [i for i in lst if i in list_words])\n",
        "    continue\n",
        "  count1=[]\n",
        "  count1.append(1 if 'faggot' in lst else 0)\n",
        "  count1.append(1 if 'dyke' in lst else 0)\n",
        "  count1.append(1 if 'tranny' in lst else 0)\n",
        "\n",
        "  score=len([i for i in count1 if i==1])\n",
        "  \n",
        "  count2=[]\n",
        "  count2.append(1 if 'gay' in lst else 0)\n",
        "  count2.append(1 if 'lesbian' in lst else 0)\n",
        "  count2.append(1 if 'transgender' in lst else 0)\n",
        "  \n",
        "  score_2=len([i for i in count2 if i==1])\n",
        "  if(score_2==0):\n",
        "    score+=3\n",
        "  else:\n",
        "    score+=score_2\n",
        "\n",
        "  for ind in range(3):\n",
        "    if(count2[ind]==1):\n",
        "      if(count1[ind]==1):\n",
        "        score+=1\n",
        "      else:\n",
        "        score-=1\n",
        "    else:\n",
        "      score+=1\n",
        "  print((round((score/9), 4)*100) ,'%', ([w for w in lst if w in list_words]))\n"
      ],
      "metadata": {
        "colab": {
          "base_uri": "https://localhost:8080/"
        },
        "id": "OsqyieuG3f9x",
        "outputId": "4f0b4196-4082-46ae-9cb9-0e628ba3a402"
      },
      "execution_count": null,
      "outputs": [
        {
          "output_type": "stream",
          "name": "stdout",
          "text": [
            "55.559999999999995 % ['faggot', 'gay']\n",
            "66.67 % ['dyke', 'faggot', 'gay']\n",
            "100.0 % ['dyke', 'faggot', 'tranny']\n",
            "66.67 % ['dyke', 'faggot', 'gay', 'lesbian', 'transgender']\n",
            "88.89 % ['dyke', 'faggot']\n",
            "88.89 % ['dyke', 'faggot', 'gay', 'lesbian', 'tranny']\n",
            "88.89 % ['faggot', 'tranny']\n",
            "77.78 % ['dyke', 'faggot', 'gay', 'tranny']\n",
            "88.89 % ['dyke', 'faggot']\n",
            "77.78 % ['dyke', 'faggot', 'gay', 'lesbian']\n",
            "77.78 % ['dyke', 'faggot', 'gay', 'tranny']\n",
            "100.0 % ['dyke', 'faggot', 'tranny']\n"
          ]
        }
      ]
    }
  ],
  "metadata": {
    "colab": {
      "collapsed_sections": [
        "IoMdQcuszb0j"
      ],
      "name": "Consistency.ipynb",
      "provenance": [],
      "authorship_tag": "ABX9TyNU7mNmy2XSytcvsZC2JEeX",
      "include_colab_link": true
    },
    "kernelspec": {
      "display_name": "Python 3",
      "name": "python3"
    },
    "language_info": {
      "name": "python"
    }
  },
  "nbformat": 4,
  "nbformat_minor": 0
}